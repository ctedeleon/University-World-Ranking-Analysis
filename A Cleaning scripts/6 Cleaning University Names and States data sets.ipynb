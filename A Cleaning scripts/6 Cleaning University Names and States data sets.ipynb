{
 "cells": [
  {
   "cell_type": "markdown",
   "id": "dc220660",
   "metadata": {},
   "source": [
    "# Import Libraries and data set"
   ]
  },
  {
   "cell_type": "code",
   "execution_count": 1,
   "id": "d1109ade",
   "metadata": {},
   "outputs": [],
   "source": [
    "import pandas as pd\n",
    "import numpy as np\n",
    "import os "
   ]
  },
  {
   "cell_type": "code",
   "execution_count": 2,
   "id": "a3031ca4",
   "metadata": {},
   "outputs": [],
   "source": [
    "path = r'C:\\Users\\ctede\\OneDrive\\Desktop\\World University Rankings Analysis'\n",
    "name = pd.read_csv(os.path.join(path,'02 Data', 'Original Data', 'InstitutionCampus.csv'))"
   ]
  },
  {
   "cell_type": "code",
   "execution_count": 3,
   "id": "802fbcc1",
   "metadata": {},
   "outputs": [
    {
     "data": {
      "text/html": [
       "<div>\n",
       "<style scoped>\n",
       "    .dataframe tbody tr th:only-of-type {\n",
       "        vertical-align: middle;\n",
       "    }\n",
       "\n",
       "    .dataframe tbody tr th {\n",
       "        vertical-align: top;\n",
       "    }\n",
       "\n",
       "    .dataframe thead th {\n",
       "        text-align: right;\n",
       "    }\n",
       "</style>\n",
       "<table border=\"1\" class=\"dataframe\">\n",
       "  <thead>\n",
       "    <tr style=\"text-align: right;\">\n",
       "      <th></th>\n",
       "      <th>DapipId</th>\n",
       "      <th>OpeId</th>\n",
       "      <th>IpedsUnitIds</th>\n",
       "      <th>LocationName</th>\n",
       "      <th>ParentName</th>\n",
       "      <th>ParentDapipId</th>\n",
       "      <th>LocationType</th>\n",
       "      <th>Address</th>\n",
       "      <th>GeneralPhone</th>\n",
       "      <th>AdminName</th>\n",
       "      <th>AdminPhone</th>\n",
       "      <th>AdminEmail</th>\n",
       "      <th>Fax</th>\n",
       "      <th>UpdateDate</th>\n",
       "    </tr>\n",
       "  </thead>\n",
       "  <tbody>\n",
       "    <tr>\n",
       "      <th>0</th>\n",
       "      <td>100016</td>\n",
       "      <td>01230800</td>\n",
       "      <td>100636</td>\n",
       "      <td>Community College of the Air Force</td>\n",
       "      <td>-</td>\n",
       "      <td>-</td>\n",
       "      <td>Institution</td>\n",
       "      <td>130 W Maxwell Blvd, Montgomery, AL 36112-6613</td>\n",
       "      <td>3349536436</td>\n",
       "      <td>ERIC A. ASH</td>\n",
       "      <td>3349536436</td>\n",
       "      <td>eric.ash@maxwell.af.mil</td>\n",
       "      <td>3.349538e+09</td>\n",
       "      <td>NaN</td>\n",
       "    </tr>\n",
       "    <tr>\n",
       "      <th>1</th>\n",
       "      <td>100016002</td>\n",
       "      <td>NaN</td>\n",
       "      <td>NaN</td>\n",
       "      <td>Community College of the Air Force</td>\n",
       "      <td>Community College of the Air Force</td>\n",
       "      <td>100016</td>\n",
       "      <td>Additional Location</td>\n",
       "      <td>2250 Stanley Road, Unit 161, Fort Sam Houston,...</td>\n",
       "      <td>NaN</td>\n",
       "      <td>NaN</td>\n",
       "      <td>NaN</td>\n",
       "      <td>NaN</td>\n",
       "      <td>NaN</td>\n",
       "      <td>NaN</td>\n",
       "    </tr>\n",
       "    <tr>\n",
       "      <th>2</th>\n",
       "      <td>100025</td>\n",
       "      <td>00100200</td>\n",
       "      <td>100654</td>\n",
       "      <td>Alabama A &amp; M University</td>\n",
       "      <td>-</td>\n",
       "      <td>-</td>\n",
       "      <td>Institution</td>\n",
       "      <td>4900 Meridian Street, Normal, AL 35762</td>\n",
       "      <td>2563725000</td>\n",
       "      <td>Andrew Hugine</td>\n",
       "      <td>2563725230</td>\n",
       "      <td>andrew.hugine@aamu.edu</td>\n",
       "      <td>NaN</td>\n",
       "      <td>9/14/2018 12:00:00 AM</td>\n",
       "    </tr>\n",
       "    <tr>\n",
       "      <th>3</th>\n",
       "      <td>100034</td>\n",
       "      <td>00105200</td>\n",
       "      <td>100663</td>\n",
       "      <td>University of Alabama at Birmingham</td>\n",
       "      <td>-</td>\n",
       "      <td>-</td>\n",
       "      <td>Institution</td>\n",
       "      <td>1720 2nd Avenue South, Birmingham, AL 35233</td>\n",
       "      <td>2059344011</td>\n",
       "      <td>Dr. Ray L. Watts</td>\n",
       "      <td>2059344636</td>\n",
       "      <td>rlawtts@uab.edu</td>\n",
       "      <td>NaN</td>\n",
       "      <td>3/12/2013 12:00:00 AM</td>\n",
       "    </tr>\n",
       "    <tr>\n",
       "      <th>4</th>\n",
       "      <td>100034002</td>\n",
       "      <td>NaN</td>\n",
       "      <td>NaN</td>\n",
       "      <td>UAB School of Optometry</td>\n",
       "      <td>University of Alabama at Birmingham</td>\n",
       "      <td>100034</td>\n",
       "      <td>Additional Location</td>\n",
       "      <td>1716 University Boulevard, Birmingham, AL 35294</td>\n",
       "      <td>NaN</td>\n",
       "      <td>NaN</td>\n",
       "      <td>NaN</td>\n",
       "      <td>NaN</td>\n",
       "      <td>NaN</td>\n",
       "      <td>NaN</td>\n",
       "    </tr>\n",
       "  </tbody>\n",
       "</table>\n",
       "</div>"
      ],
      "text/plain": [
       "     DapipId     OpeId IpedsUnitIds                         LocationName  \\\n",
       "0     100016  01230800       100636   Community College of the Air Force   \n",
       "1  100016002       NaN          NaN   Community College of the Air Force   \n",
       "2     100025  00100200       100654             Alabama A & M University   \n",
       "3     100034  00105200       100663  University of Alabama at Birmingham   \n",
       "4  100034002       NaN          NaN              UAB School of Optometry   \n",
       "\n",
       "                            ParentName ParentDapipId         LocationType  \\\n",
       "0                                    -             -          Institution   \n",
       "1   Community College of the Air Force        100016  Additional Location   \n",
       "2                                    -             -          Institution   \n",
       "3                                    -             -          Institution   \n",
       "4  University of Alabama at Birmingham        100034  Additional Location   \n",
       "\n",
       "                                             Address GeneralPhone  \\\n",
       "0      130 W Maxwell Blvd, Montgomery, AL 36112-6613   3349536436   \n",
       "1  2250 Stanley Road, Unit 161, Fort Sam Houston,...          NaN   \n",
       "2             4900 Meridian Street, Normal, AL 35762   2563725000   \n",
       "3        1720 2nd Avenue South, Birmingham, AL 35233   2059344011   \n",
       "4    1716 University Boulevard, Birmingham, AL 35294          NaN   \n",
       "\n",
       "          AdminName  AdminPhone               AdminEmail           Fax  \\\n",
       "0       ERIC A. ASH  3349536436  eric.ash@maxwell.af.mil  3.349538e+09   \n",
       "1               NaN         NaN                      NaN           NaN   \n",
       "2     Andrew Hugine  2563725230   andrew.hugine@aamu.edu           NaN   \n",
       "3  Dr. Ray L. Watts  2059344636          rlawtts@uab.edu           NaN   \n",
       "4               NaN         NaN                      NaN           NaN   \n",
       "\n",
       "              UpdateDate  \n",
       "0                    NaN  \n",
       "1                    NaN  \n",
       "2  9/14/2018 12:00:00 AM  \n",
       "3  3/12/2013 12:00:00 AM  \n",
       "4                    NaN  "
      ]
     },
     "execution_count": 3,
     "metadata": {},
     "output_type": "execute_result"
    }
   ],
   "source": [
    "name.head()"
   ]
  },
  {
   "cell_type": "markdown",
   "id": "e136c158",
   "metadata": {},
   "source": [
    "# Create a subset \n",
    "    Only want the location name, parent name, and address"
   ]
  },
  {
   "cell_type": "code",
   "execution_count": 4,
   "id": "2b53879b",
   "metadata": {},
   "outputs": [],
   "source": [
    "columns = [\"LocationName\", \"ParentName\", \"Address\"]"
   ]
  },
  {
   "cell_type": "code",
   "execution_count": 5,
   "id": "8e66c956",
   "metadata": {},
   "outputs": [],
   "source": [
    "name_2 = name[columns]"
   ]
  },
  {
   "cell_type": "code",
   "execution_count": 6,
   "id": "330f4993",
   "metadata": {},
   "outputs": [
    {
     "data": {
      "text/html": [
       "<div>\n",
       "<style scoped>\n",
       "    .dataframe tbody tr th:only-of-type {\n",
       "        vertical-align: middle;\n",
       "    }\n",
       "\n",
       "    .dataframe tbody tr th {\n",
       "        vertical-align: top;\n",
       "    }\n",
       "\n",
       "    .dataframe thead th {\n",
       "        text-align: right;\n",
       "    }\n",
       "</style>\n",
       "<table border=\"1\" class=\"dataframe\">\n",
       "  <thead>\n",
       "    <tr style=\"text-align: right;\">\n",
       "      <th></th>\n",
       "      <th>LocationName</th>\n",
       "      <th>ParentName</th>\n",
       "      <th>Address</th>\n",
       "    </tr>\n",
       "  </thead>\n",
       "  <tbody>\n",
       "    <tr>\n",
       "      <th>0</th>\n",
       "      <td>Community College of the Air Force</td>\n",
       "      <td>-</td>\n",
       "      <td>130 W Maxwell Blvd, Montgomery, AL 36112-6613</td>\n",
       "    </tr>\n",
       "    <tr>\n",
       "      <th>1</th>\n",
       "      <td>Community College of the Air Force</td>\n",
       "      <td>Community College of the Air Force</td>\n",
       "      <td>2250 Stanley Road, Unit 161, Fort Sam Houston,...</td>\n",
       "    </tr>\n",
       "    <tr>\n",
       "      <th>2</th>\n",
       "      <td>Alabama A &amp; M University</td>\n",
       "      <td>-</td>\n",
       "      <td>4900 Meridian Street, Normal, AL 35762</td>\n",
       "    </tr>\n",
       "    <tr>\n",
       "      <th>3</th>\n",
       "      <td>University of Alabama at Birmingham</td>\n",
       "      <td>-</td>\n",
       "      <td>1720 2nd Avenue South, Birmingham, AL 35233</td>\n",
       "    </tr>\n",
       "    <tr>\n",
       "      <th>4</th>\n",
       "      <td>UAB School of Optometry</td>\n",
       "      <td>University of Alabama at Birmingham</td>\n",
       "      <td>1716 University Boulevard, Birmingham, AL 35294</td>\n",
       "    </tr>\n",
       "  </tbody>\n",
       "</table>\n",
       "</div>"
      ],
      "text/plain": [
       "                          LocationName                           ParentName  \\\n",
       "0   Community College of the Air Force                                    -   \n",
       "1   Community College of the Air Force   Community College of the Air Force   \n",
       "2             Alabama A & M University                                    -   \n",
       "3  University of Alabama at Birmingham                                    -   \n",
       "4              UAB School of Optometry  University of Alabama at Birmingham   \n",
       "\n",
       "                                             Address  \n",
       "0      130 W Maxwell Blvd, Montgomery, AL 36112-6613  \n",
       "1  2250 Stanley Road, Unit 161, Fort Sam Houston,...  \n",
       "2             4900 Meridian Street, Normal, AL 35762  \n",
       "3        1720 2nd Avenue South, Birmingham, AL 35233  \n",
       "4    1716 University Boulevard, Birmingham, AL 35294  "
      ]
     },
     "execution_count": 6,
     "metadata": {},
     "output_type": "execute_result"
    }
   ],
   "source": [
    "name_2.head()"
   ]
  },
  {
   "cell_type": "code",
   "execution_count": 7,
   "id": "7616ef9a",
   "metadata": {},
   "outputs": [
    {
     "data": {
      "text/plain": [
       "(34652, 14)"
      ]
     },
     "execution_count": 7,
     "metadata": {},
     "output_type": "execute_result"
    }
   ],
   "source": [
    "name.shape"
   ]
  },
  {
   "cell_type": "code",
   "execution_count": 8,
   "id": "fb8cd655",
   "metadata": {},
   "outputs": [
    {
     "data": {
      "text/plain": [
       "(34652, 3)"
      ]
     },
     "execution_count": 8,
     "metadata": {},
     "output_type": "execute_result"
    }
   ],
   "source": [
    "name_2.shape"
   ]
  },
  {
   "cell_type": "code",
   "execution_count": 9,
   "id": "653a6391",
   "metadata": {},
   "outputs": [],
   "source": [
    "#Export name_2 \n",
    "name_2.to_csv(os.path.join(path, '02 Data', 'Prepared Data', 'university_name.csv'))"
   ]
  },
  {
   "cell_type": "markdown",
   "id": "fe68f0d3",
   "metadata": {},
   "source": [
    "# Clean the subset"
   ]
  },
  {
   "cell_type": "code",
   "execution_count": 9,
   "id": "ea38473a",
   "metadata": {},
   "outputs": [
    {
     "data": {
      "text/plain": [
       "LocationName    0\n",
       "ParentName      0\n",
       "Address         0\n",
       "dtype: int64"
      ]
     },
     "execution_count": 9,
     "metadata": {},
     "output_type": "execute_result"
    }
   ],
   "source": [
    "#Check for missing values \n",
    "name_2.isnull().sum() #no missing values "
   ]
  },
  {
   "cell_type": "code",
   "execution_count": 10,
   "id": "fa4e94d7",
   "metadata": {},
   "outputs": [],
   "source": [
    "#Check for duplicate values \n",
    "dups = name_2.duplicated()"
   ]
  },
  {
   "cell_type": "code",
   "execution_count": 11,
   "id": "1fb55364",
   "metadata": {},
   "outputs": [
    {
     "data": {
      "text/plain": [
       "(34652,)"
      ]
     },
     "execution_count": 11,
     "metadata": {},
     "output_type": "execute_result"
    }
   ],
   "source": [
    "dups.shape #no duplicates"
   ]
  },
  {
   "cell_type": "markdown",
   "id": "a587c579",
   "metadata": {},
   "source": [
    "# Wrangling - create a state column "
   ]
  },
  {
   "cell_type": "code",
   "execution_count": 14,
   "id": "b05de009",
   "metadata": {},
   "outputs": [],
   "source": [
    "#str_extract(text, \"\\\\b[A-Z]{2}(?=\\\\s+\\\\d{5}$)\")\n",
    "#df2 = df[\"Address\"].apply(lambda x: x.split(\",\"))\n",
    "#city = df2.apply(lambda x: \" \".join(x[0].split()[1:]))\n",
    "#state = df2.apply(lambda x: x[1].split()[0])\n",
    "#result = pd.DataFrame(zip(city, state), columns=[\"city\", \"state\"])"
   ]
  },
  {
   "cell_type": "code",
   "execution_count": 31,
   "id": "e0169ed3",
   "metadata": {},
   "outputs": [],
   "source": [
    "#def extract_city_state(a):\n",
    "   # asplit = a.split(\",\")\n",
    "   # city = asplit[0].split()[-1]\n",
    "    #state = asplit[1].split()[0]\n",
    "    #return city, state"
   ]
  },
  {
   "cell_type": "code",
   "execution_count": 32,
   "id": "1c099b9c",
   "metadata": {},
   "outputs": [],
   "source": [
    "def extract_city_state(a): \n",
    "    asplit = a.split(\",\")\n",
    "    city - asplit[0].split()[-1]\n",
    "    state = asplit[1].split()[0]\n",
    "    return city, state"
   ]
  },
  {
   "cell_type": "code",
   "execution_count": 37,
   "id": "90b60e8e",
   "metadata": {},
   "outputs": [
    {
     "data": {
      "text/plain": [
       "<function __main__.extract_city_state(a)>"
      ]
     },
     "execution_count": 37,
     "metadata": {},
     "output_type": "execute_result"
    }
   ],
   "source": [
    "extract_city_state\n",
    "    "
   ]
  },
  {
   "cell_type": "code",
   "execution_count": null,
   "id": "d2fafcf4",
   "metadata": {},
   "outputs": [],
   "source": [
    "result = pd.DataFrame(zip(city, state), columns = [\"LocationName\", \"ParentName\", \"city\", \"state\"])"
   ]
  }
 ],
 "metadata": {
  "kernelspec": {
   "display_name": "Python 3 (ipykernel)",
   "language": "python",
   "name": "python3"
  },
  "language_info": {
   "codemirror_mode": {
    "name": "ipython",
    "version": 3
   },
   "file_extension": ".py",
   "mimetype": "text/x-python",
   "name": "python",
   "nbconvert_exporter": "python",
   "pygments_lexer": "ipython3",
   "version": "3.9.13"
  }
 },
 "nbformat": 4,
 "nbformat_minor": 5
}
