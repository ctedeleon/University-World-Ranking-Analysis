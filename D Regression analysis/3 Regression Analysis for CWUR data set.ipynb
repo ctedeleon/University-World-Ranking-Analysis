{
 "cells": [
  {
   "cell_type": "markdown",
   "id": "c8ed7bf6",
   "metadata": {},
   "source": [
    "# Table of Contents\n",
    "## 1 Import Libraries\n",
    "## 2 Import data set \n",
    "## 3 Relationshps to explore\n",
    "    Hypothesis\n",
    "### 4 Cleaning data \n",
    "    Missing values, duplicate check, extreme values check \n",
    "### 5 Prepare data for regression analysis\n",
    "    - Scatterplot \n",
    "    - Independent and dependent variables \n",
    "    - Split the data \n",
    "### 6 Regression Analysis     \n",
    "    - Fit the model to the training set \n",
    "    - Create a prediction for y on the test set \n",
    "    - Create a plot that shows the regression line on the test set \n",
    "    - Model performance statistics \n",
    "    - Compare the predicted y values with the actual y values "
   ]
  },
  {
   "cell_type": "markdown",
   "id": "f97a75ea",
   "metadata": {},
   "source": [
    "# 1 Import Libraries "
   ]
  },
  {
   "cell_type": "code",
   "execution_count": 1,
   "id": "aff5cfef",
   "metadata": {},
   "outputs": [],
   "source": [
    "import pandas as pd\n",
    "import numpy as np\n",
    "import seaborn as sns\n",
    "import matplotlib\n",
    "import matplotlib.pyplot as plt\n",
    "import os\n",
    "import sklearn\n",
    "from sklearn.model_selection import train_test_split\n",
    "from sklearn.linear_model import LinearRegression \n",
    "from sklearn.metrics import mean_squared_error, r2_score"
   ]
  },
  {
   "cell_type": "markdown",
   "id": "027a2a82",
   "metadata": {},
   "source": [
    "# 2 Import CWUR data set"
   ]
  },
  {
   "cell_type": "code",
   "execution_count": 2,
   "id": "9581b2af",
   "metadata": {},
   "outputs": [],
   "source": [
    "#Path \n",
    "path = r'C:\\Users\\ctede\\OneDrive\\Desktop\\World University Rankings Analysis'"
   ]
  },
  {
   "cell_type": "code",
   "execution_count": 3,
   "id": "c413d819",
   "metadata": {},
   "outputs": [],
   "source": [
    "#Data set \n",
    "CWUR = pd.read_pickle(os.path.join(path,'02 Data', 'Prepared Data', 'CWUR_new_cols.pkl'))"
   ]
  },
  {
   "cell_type": "code",
   "execution_count": 4,
   "id": "1e7aeb7d",
   "metadata": {},
   "outputs": [
    {
     "data": {
      "text/html": [
       "<div>\n",
       "<style scoped>\n",
       "    .dataframe tbody tr th:only-of-type {\n",
       "        vertical-align: middle;\n",
       "    }\n",
       "\n",
       "    .dataframe tbody tr th {\n",
       "        vertical-align: top;\n",
       "    }\n",
       "\n",
       "    .dataframe thead th {\n",
       "        text-align: right;\n",
       "    }\n",
       "</style>\n",
       "<table border=\"1\" class=\"dataframe\">\n",
       "  <thead>\n",
       "    <tr style=\"text-align: right;\">\n",
       "      <th></th>\n",
       "      <th>world_rank</th>\n",
       "      <th>university_name</th>\n",
       "      <th>country</th>\n",
       "      <th>national_rank</th>\n",
       "      <th>quality_of_education</th>\n",
       "      <th>alumni_employment</th>\n",
       "      <th>quality_of_faculty</th>\n",
       "      <th>publications</th>\n",
       "      <th>influence</th>\n",
       "      <th>citations</th>\n",
       "      <th>patents</th>\n",
       "      <th>score</th>\n",
       "      <th>year</th>\n",
       "      <th>region</th>\n",
       "      <th>Rank Category</th>\n",
       "    </tr>\n",
       "  </thead>\n",
       "  <tbody>\n",
       "    <tr>\n",
       "      <th>0</th>\n",
       "      <td>1</td>\n",
       "      <td>Harvard University</td>\n",
       "      <td>United States</td>\n",
       "      <td>1</td>\n",
       "      <td>7</td>\n",
       "      <td>9</td>\n",
       "      <td>1</td>\n",
       "      <td>1</td>\n",
       "      <td>1</td>\n",
       "      <td>1</td>\n",
       "      <td>5</td>\n",
       "      <td>100.00</td>\n",
       "      <td>2012</td>\n",
       "      <td>North America</td>\n",
       "      <td>Top 50</td>\n",
       "    </tr>\n",
       "    <tr>\n",
       "      <th>1</th>\n",
       "      <td>2</td>\n",
       "      <td>Massachusetts Institute of Technology</td>\n",
       "      <td>United States</td>\n",
       "      <td>2</td>\n",
       "      <td>9</td>\n",
       "      <td>17</td>\n",
       "      <td>3</td>\n",
       "      <td>12</td>\n",
       "      <td>4</td>\n",
       "      <td>4</td>\n",
       "      <td>1</td>\n",
       "      <td>91.67</td>\n",
       "      <td>2012</td>\n",
       "      <td>North America</td>\n",
       "      <td>Top 50</td>\n",
       "    </tr>\n",
       "    <tr>\n",
       "      <th>2</th>\n",
       "      <td>3</td>\n",
       "      <td>Stanford University</td>\n",
       "      <td>United States</td>\n",
       "      <td>3</td>\n",
       "      <td>17</td>\n",
       "      <td>11</td>\n",
       "      <td>5</td>\n",
       "      <td>4</td>\n",
       "      <td>2</td>\n",
       "      <td>2</td>\n",
       "      <td>15</td>\n",
       "      <td>89.50</td>\n",
       "      <td>2012</td>\n",
       "      <td>North America</td>\n",
       "      <td>Top 50</td>\n",
       "    </tr>\n",
       "    <tr>\n",
       "      <th>3</th>\n",
       "      <td>4</td>\n",
       "      <td>University of Cambridge</td>\n",
       "      <td>United Kingdom</td>\n",
       "      <td>1</td>\n",
       "      <td>10</td>\n",
       "      <td>24</td>\n",
       "      <td>4</td>\n",
       "      <td>16</td>\n",
       "      <td>16</td>\n",
       "      <td>11</td>\n",
       "      <td>50</td>\n",
       "      <td>86.17</td>\n",
       "      <td>2012</td>\n",
       "      <td>Europe</td>\n",
       "      <td>Top 50</td>\n",
       "    </tr>\n",
       "    <tr>\n",
       "      <th>4</th>\n",
       "      <td>5</td>\n",
       "      <td>California Institute of Technology</td>\n",
       "      <td>United States</td>\n",
       "      <td>4</td>\n",
       "      <td>2</td>\n",
       "      <td>29</td>\n",
       "      <td>7</td>\n",
       "      <td>37</td>\n",
       "      <td>22</td>\n",
       "      <td>22</td>\n",
       "      <td>18</td>\n",
       "      <td>85.21</td>\n",
       "      <td>2012</td>\n",
       "      <td>North America</td>\n",
       "      <td>Top 50</td>\n",
       "    </tr>\n",
       "  </tbody>\n",
       "</table>\n",
       "</div>"
      ],
      "text/plain": [
       "   world_rank                        university_name         country  \\\n",
       "0           1                     Harvard University   United States   \n",
       "1           2  Massachusetts Institute of Technology   United States   \n",
       "2           3                    Stanford University   United States   \n",
       "3           4                University of Cambridge  United Kingdom   \n",
       "4           5     California Institute of Technology   United States   \n",
       "\n",
       "   national_rank  quality_of_education  alumni_employment  quality_of_faculty  \\\n",
       "0              1                     7                  9                   1   \n",
       "1              2                     9                 17                   3   \n",
       "2              3                    17                 11                   5   \n",
       "3              1                    10                 24                   4   \n",
       "4              4                     2                 29                   7   \n",
       "\n",
       "   publications  influence  citations  patents   score  year         region  \\\n",
       "0             1          1          1        5  100.00  2012  North America   \n",
       "1            12          4          4        1   91.67  2012  North America   \n",
       "2             4          2          2       15   89.50  2012  North America   \n",
       "3            16         16         11       50   86.17  2012         Europe   \n",
       "4            37         22         22       18   85.21  2012  North America   \n",
       "\n",
       "  Rank Category  \n",
       "0        Top 50  \n",
       "1        Top 50  \n",
       "2        Top 50  \n",
       "3        Top 50  \n",
       "4        Top 50  "
      ]
     },
     "execution_count": 4,
     "metadata": {},
     "output_type": "execute_result"
    }
   ],
   "source": [
    "#Check data set columns \n",
    "CWUR.head()"
   ]
  },
  {
   "cell_type": "code",
   "execution_count": 5,
   "id": "54f573f2",
   "metadata": {},
   "outputs": [
    {
     "data": {
      "text/plain": [
       "(2200, 15)"
      ]
     },
     "execution_count": 5,
     "metadata": {},
     "output_type": "execute_result"
    }
   ],
   "source": [
    "#Check shape \n",
    "CWUR.shape"
   ]
  },
  {
   "cell_type": "markdown",
   "id": "060b0334",
   "metadata": {},
   "source": [
    "# 3 Relationships to Explore"
   ]
  },
  {
   "cell_type": "markdown",
   "id": "b84ea7d3",
   "metadata": {},
   "source": [
    "I chose to use the world rank variable, instead of the score variable because I did not observe any potential linear scatterplots when plotting the score variable with the various indicators. Specifically, I will be doing a regression analysis on the world rank and the publications variable. The publications variable refers to the combined number of articles, where the quality of the journal is weighted. Although the world rank variable is not as intuitive as looking at the score variable, I only observed linearity when looking at the world rank variable. \n",
    "- World rank and the publications variable \n",
    "- World rank and the quality of faculty variable (weighted number of faculty members of a university who have won awards, medals, and prizes)\n",
    "    - The quality of faculty variable had an almost horizontal scatterplot (until the data points started to disperse) with the world rank variable. I will also look at the relationship between the score and the quality of faculty variable because this scatterplot also stood out. "
   ]
  },
  {
   "cell_type": "markdown",
   "id": "07caa265",
   "metadata": {},
   "source": [
    "## Hypothesis "
   ]
  },
  {
   "cell_type": "markdown",
   "id": "d8405f06",
   "metadata": {},
   "source": [
    "The number of publications by a university does not affect the world rank for that university. In other words, the ranking for a university does not depend on the number of published articles. "
   ]
  },
  {
   "cell_type": "markdown",
   "id": "e11e1b25",
   "metadata": {},
   "source": [
    "# 4 Cleaning Data "
   ]
  },
  {
   "cell_type": "markdown",
   "id": "31e62883",
   "metadata": {},
   "source": [
    "### Missing values check"
   ]
  },
  {
   "cell_type": "code",
   "execution_count": 6,
   "id": "86e45356",
   "metadata": {},
   "outputs": [],
   "source": [
    "#Create a subset of variables of interest: world rank, publications, quality of faculty, score \n",
    "columns = [\"world_rank\", \"publications\", \"quality_of_faculty\", \"score\"]"
   ]
  },
  {
   "cell_type": "code",
   "execution_count": 7,
   "id": "8adb4f48",
   "metadata": {},
   "outputs": [],
   "source": [
    "#subset \n",
    "CWUR_sub = CWUR[columns]"
   ]
  },
  {
   "cell_type": "code",
   "execution_count": 8,
   "id": "65c7f45d",
   "metadata": {},
   "outputs": [
    {
     "data": {
      "text/html": [
       "<div>\n",
       "<style scoped>\n",
       "    .dataframe tbody tr th:only-of-type {\n",
       "        vertical-align: middle;\n",
       "    }\n",
       "\n",
       "    .dataframe tbody tr th {\n",
       "        vertical-align: top;\n",
       "    }\n",
       "\n",
       "    .dataframe thead th {\n",
       "        text-align: right;\n",
       "    }\n",
       "</style>\n",
       "<table border=\"1\" class=\"dataframe\">\n",
       "  <thead>\n",
       "    <tr style=\"text-align: right;\">\n",
       "      <th></th>\n",
       "      <th>world_rank</th>\n",
       "      <th>publications</th>\n",
       "      <th>quality_of_faculty</th>\n",
       "      <th>score</th>\n",
       "    </tr>\n",
       "  </thead>\n",
       "  <tbody>\n",
       "    <tr>\n",
       "      <th>0</th>\n",
       "      <td>1</td>\n",
       "      <td>1</td>\n",
       "      <td>1</td>\n",
       "      <td>100.00</td>\n",
       "    </tr>\n",
       "    <tr>\n",
       "      <th>1</th>\n",
       "      <td>2</td>\n",
       "      <td>12</td>\n",
       "      <td>3</td>\n",
       "      <td>91.67</td>\n",
       "    </tr>\n",
       "    <tr>\n",
       "      <th>2</th>\n",
       "      <td>3</td>\n",
       "      <td>4</td>\n",
       "      <td>5</td>\n",
       "      <td>89.50</td>\n",
       "    </tr>\n",
       "    <tr>\n",
       "      <th>3</th>\n",
       "      <td>4</td>\n",
       "      <td>16</td>\n",
       "      <td>4</td>\n",
       "      <td>86.17</td>\n",
       "    </tr>\n",
       "    <tr>\n",
       "      <th>4</th>\n",
       "      <td>5</td>\n",
       "      <td>37</td>\n",
       "      <td>7</td>\n",
       "      <td>85.21</td>\n",
       "    </tr>\n",
       "  </tbody>\n",
       "</table>\n",
       "</div>"
      ],
      "text/plain": [
       "   world_rank  publications  quality_of_faculty   score\n",
       "0           1             1                   1  100.00\n",
       "1           2            12                   3   91.67\n",
       "2           3             4                   5   89.50\n",
       "3           4            16                   4   86.17\n",
       "4           5            37                   7   85.21"
      ]
     },
     "execution_count": 8,
     "metadata": {},
     "output_type": "execute_result"
    }
   ],
   "source": [
    "CWUR_sub.head()"
   ]
  },
  {
   "cell_type": "code",
   "execution_count": 9,
   "id": "7cd5d988",
   "metadata": {},
   "outputs": [
    {
     "data": {
      "text/plain": [
       "(2200, 4)"
      ]
     },
     "execution_count": 9,
     "metadata": {},
     "output_type": "execute_result"
    }
   ],
   "source": [
    "CWUR_sub.shape"
   ]
  },
  {
   "cell_type": "code",
   "execution_count": 10,
   "id": "9a80d0d5",
   "metadata": {},
   "outputs": [
    {
     "data": {
      "text/plain": [
       "world_rank            0\n",
       "publications          0\n",
       "quality_of_faculty    0\n",
       "score                 0\n",
       "dtype: int64"
      ]
     },
     "execution_count": 10,
     "metadata": {},
     "output_type": "execute_result"
    }
   ],
   "source": [
    "#Check for missing values \n",
    "CWUR_sub.isnull().sum() #no missing values"
   ]
  },
  {
   "cell_type": "markdown",
   "id": "f36610ca",
   "metadata": {},
   "source": [
    "### Duplicate values"
   ]
  },
  {
   "cell_type": "code",
   "execution_count": 12,
   "id": "db4a546f",
   "metadata": {},
   "outputs": [
    {
     "data": {
      "text/plain": [
       "(2200,)"
      ]
     },
     "execution_count": 12,
     "metadata": {},
     "output_type": "execute_result"
    }
   ],
   "source": [
    "dups = CWUR_sub.duplicated()\n",
    "dups.shape #no full duplicates"
   ]
  },
  {
   "cell_type": "markdown",
   "id": "1c7c3ac6",
   "metadata": {},
   "source": [
    "### Check for extreme values"
   ]
  },
  {
   "cell_type": "code",
   "execution_count": 13,
   "id": "e7003c63",
   "metadata": {},
   "outputs": [
    {
     "name": "stderr",
     "output_type": "stream",
     "text": [
      "C:\\apps\\lib\\site-packages\\seaborn\\distributions.py:2619: FutureWarning: `distplot` is a deprecated function and will be removed in a future version. Please adapt your code to use either `displot` (a figure-level function with similar flexibility) or `histplot` (an axes-level function for histograms).\n",
      "  warnings.warn(msg, FutureWarning)\n"
     ]
    },
    {
     "data": {
      "text/plain": [
       "<AxesSubplot:xlabel='world_rank', ylabel='Density'>"
      ]
     },
     "execution_count": 13,
     "metadata": {},
     "output_type": "execute_result"
    },
    {
     "data": {
      "image/png": "[encoded data removed]",
      "text/plain": [
       "<Figure size 640x480 with 1 Axes>"
      ]
     },
     "metadata": {},
     "output_type": "display_data"
    }
   ],
   "source": [
    "#Check for extreme values for the world_rank variable \n",
    "sns.distplot(CWUR_sub['world_rank'],bins=25)"
   ]
  },
  {
   "cell_type": "markdown",
   "id": "615b4000",
   "metadata": {},
   "source": [
    "Majority of the universities have world ranks between 0 and around 100. The maximum rank possible is 1000 and this density plot is consistent with that. "
   ]
  },
  {
   "cell_type": "code",
   "execution_count": 14,
   "id": "31f91456",
   "metadata": {
    "scrolled": false
   },
   "outputs": [
    {
     "name": "stderr",
     "output_type": "stream",
     "text": [
      "C:\\apps\\lib\\site-packages\\seaborn\\distributions.py:2619: FutureWarning: `distplot` is a deprecated function and will be removed in a future version. Please adapt your code to use either `displot` (a figure-level function with similar flexibility) or `histplot` (an axes-level function for histograms).\n",
      "  warnings.warn(msg, FutureWarning)\n"
     ]
    },
    {
     "data": {
      "text/plain": [
       "<AxesSubplot:xlabel='publications', ylabel='Density'>"
      ]
     },
     "execution_count": 14,
     "metadata": {},
     "output_type": "execute_result"
    },
    {
     "data": {
      "image/png": "[encoded data removed]",
      "text/plain": [
       "<Figure size 640x480 with 1 Axes>"
      ]
     },
     "metadata": {},
     "output_type": "display_data"
    }
   ],
   "source": [
    "#Check for extreme values for the publications variable \n",
    "sns.distplot(CWUR_sub['publications'],bins=25)"
   ]
  },
  {
   "cell_type": "markdown",
   "id": "6e703ce2",
   "metadata": {},
   "source": [
    "Similar to the world rank density plot: there are a lot of universities (data values) that are between 0 and 100, with other data values ranging betwen 100 to 1000. "
   ]
  },
  {
   "cell_type": "code",
   "execution_count": 15,
   "id": "313e9557",
   "metadata": {},
   "outputs": [
    {
     "name": "stderr",
     "output_type": "stream",
     "text": [
      "C:\\apps\\lib\\site-packages\\seaborn\\distributions.py:2619: FutureWarning: `distplot` is a deprecated function and will be removed in a future version. Please adapt your code to use either `displot` (a figure-level function with similar flexibility) or `histplot` (an axes-level function for histograms).\n",
      "  warnings.warn(msg, FutureWarning)\n"
     ]
    },
    {
     "data": {
      "text/plain": [
       "<AxesSubplot:xlabel='quality_of_faculty', ylabel='Density'>"
      ]
     },
     "execution_count": 15,
     "metadata": {},
     "output_type": "execute_result"
    },
    {
     "data": {
      "image/png": "[encoded data removed]",
      "text/plain": [
       "<Figure size 640x480 with 1 Axes>"
      ]
     },
     "metadata": {},
     "output_type": "display_data"
    }
   ],
   "source": [
    "#Check for extreme values for the quality of faculty variable \n",
    "sns.distplot(CWUR_sub['quality_of_faculty'],bins=25)"
   ]
  },
  {
   "cell_type": "markdown",
   "id": "225a5488",
   "metadata": {},
   "source": [
    "There may be extreme or outliers present in the quality of faculty variable. I will continue with the regression as is and see the result prior to handling the possible outliers. "
   ]
  },
  {
   "cell_type": "code",
   "execution_count": 16,
   "id": "bdd0600b",
   "metadata": {},
   "outputs": [
    {
     "name": "stderr",
     "output_type": "stream",
     "text": [
      "C:\\apps\\lib\\site-packages\\seaborn\\distributions.py:2619: FutureWarning: `distplot` is a deprecated function and will be removed in a future version. Please adapt your code to use either `displot` (a figure-level function with similar flexibility) or `histplot` (an axes-level function for histograms).\n",
      "  warnings.warn(msg, FutureWarning)\n"
     ]
    },
    {
     "data": {
      "text/plain": [
       "<AxesSubplot:xlabel='score', ylabel='Density'>"
      ]
     },
     "execution_count": 16,
     "metadata": {},
     "output_type": "execute_result"
    },
    {
     "data": {
      "image/png": "[encoded data removed]",
      "text/plain": [
       "<Figure size 640x480 with 1 Axes>"
      ]
     },
     "metadata": {},
     "output_type": "display_data"
    }
   ],
   "source": [
    "#Check for extreme values for the score variable \n",
    "sns.distplot(CWUR_sub['score'],bins=25)"
   ]
  },
  {
   "cell_type": "markdown",
   "id": "d1682da0",
   "metadata": {},
   "source": [
    "There may be some extreme values present, however this density plot is not as concerning as the quality of faculty plot. "
   ]
  },
  {
   "cell_type": "markdown",
   "id": "a11dfb77",
   "metadata": {},
   "source": [
    "# 5 Prepare data for regression analysis \n",
    "I will be doing the regression analysis for the world rank and publications variables first."
   ]
  },
  {
   "cell_type": "markdown",
   "id": "fb8c18b6",
   "metadata": {},
   "source": [
    "### Scatterplot"
   ]
  },
  {
   "cell_type": "code",
   "execution_count": 17,
   "id": "fe77d0c0",
   "metadata": {},
   "outputs": [
    {
     "data": {
      "image/png": "[encoded data removed]",
      "text/plain": [
       "<Figure size 640x480 with 1 Axes>"
      ]
     },
     "metadata": {},
     "output_type": "display_data"
    }
   ],
   "source": [
    "#Using matplotlib to create a scatterplot for the world rank and publications variables \n",
    "CWUR.plot(x='publications', y='world_rank', style='o')\n",
    "plt.title('Number of publications vs World Rank')\n",
    "plt.xlabel('Number of publications')\n",
    "plt.ylabel('World Rank')\n",
    "plt.show()"
   ]
  },
  {
   "cell_type": "markdown",
   "id": "88dbc490",
   "metadata": {},
   "source": [
    "The general trend is positive (up and to the right) and linear. A lot of the data points are below 200 publications (which is what we saw above in the density plot for the number of publications). In the lower left quadrant (below 400 publications), some of the data supports the alternative hypothesis (that the number of publications DO AFFECT the world rank). "
   ]
  },
  {
   "cell_type": "markdown",
   "id": "84be62dc",
   "metadata": {},
   "source": [
    "### Prepare the independent and dependent variables "
   ]
  },
  {
   "cell_type": "code",
   "execution_count": 19,
   "id": "da957141",
   "metadata": {},
   "outputs": [],
   "source": [
    "#Reshape the variables into NumPy arrays and place them into separate objects \n",
    "#X = independent \n",
    "X = CWUR_sub['publications'].values.reshape(-1,1)\n",
    "\n",
    "#y = dependent \n",
    "y = CWUR_sub['world_rank'].values.reshape(-1,1)"
   ]
  },
  {
   "cell_type": "code",
   "execution_count": 20,
   "id": "b11fc4b1",
   "metadata": {},
   "outputs": [
    {
     "data": {
      "text/plain": [
       "array([[  1],\n",
       "       [ 12],\n",
       "       [  4],\n",
       "       ...,\n",
       "       [830],\n",
       "       [886],\n",
       "       [861]], dtype=int64)"
      ]
     },
     "execution_count": 20,
     "metadata": {},
     "output_type": "execute_result"
    }
   ],
   "source": [
    "#Check the independent variable X\n",
    "X"
   ]
  },
  {
   "cell_type": "code",
   "execution_count": 21,
   "id": "7292be60",
   "metadata": {},
   "outputs": [
    {
     "data": {
      "text/plain": [
       "array([[   1],\n",
       "       [   2],\n",
       "       [   3],\n",
       "       ...,\n",
       "       [ 998],\n",
       "       [ 999],\n",
       "       [1000]], dtype=int64)"
      ]
     },
     "execution_count": 21,
     "metadata": {},
     "output_type": "execute_result"
    }
   ],
   "source": [
    "#Check the dependent variable y\n",
    "y"
   ]
  },
  {
   "cell_type": "markdown",
   "id": "7287f70f",
   "metadata": {},
   "source": [
    "### Split the data into a training set and test set "
   ]
  },
  {
   "cell_type": "code",
   "execution_count": 22,
   "id": "b9b410e0",
   "metadata": {},
   "outputs": [],
   "source": [
    "X_train, X_test, y_train, y_test = train_test_split(X,y, test_size=0.3, random_state=0)"
   ]
  },
  {
   "cell_type": "markdown",
   "id": "31e55686",
   "metadata": {},
   "source": [
    "# 6 Regression Analysis"
   ]
  },
  {
   "cell_type": "code",
   "execution_count": 23,
   "id": "86759bca",
   "metadata": {},
   "outputs": [],
   "source": [
    "#Create a regression object \n",
    "regression = LinearRegression()"
   ]
  },
  {
   "cell_type": "markdown",
   "id": "ee3c8923",
   "metadata": {},
   "source": [
    "### Fit the model to the training set "
   ]
  },
  {
   "cell_type": "code",
   "execution_count": 24,
   "id": "e465ee57",
   "metadata": {},
   "outputs": [
    {
     "data": {
      "text/plain": [
       "LinearRegression()"
      ]
     },
     "execution_count": 24,
     "metadata": {},
     "output_type": "execute_result"
    }
   ],
   "source": [
    "regression.fit(X_train, y_train)"
   ]
  },
  {
   "cell_type": "markdown",
   "id": "62b83a50",
   "metadata": {},
   "source": [
    "### Create a prediction for y on the test set"
   ]
  },
  {
   "cell_type": "code",
   "execution_count": 25,
   "id": "9b30b3d3",
   "metadata": {},
   "outputs": [],
   "source": [
    "y_predicted = regression.predict(X_test)"
   ]
  },
  {
   "cell_type": "markdown",
   "id": "68401f65",
   "metadata": {},
   "source": [
    "### Create a plot that shows the regression line on the test set "
   ]
  },
  {
   "cell_type": "code",
   "execution_count": 28,
   "id": "3be9f532",
   "metadata": {},
   "outputs": [
    {
     "data": {
      "image/png": "[encoded data removed]",
      "text/plain": [
       "<Figure size 640x480 with 1 Axes>"
      ]
     },
     "metadata": {},
     "output_type": "display_data"
    }
   ],
   "source": [
    "plot_test = plt\n",
    "plot_test.scatter(X_test, y_test, color='gray', s=15)\n",
    "plot_test.plot(X_test, y_predicted, color='red', linewidth=3)\n",
    "plot_test.title('Number of publications vs World Rank')\n",
    "plot_test.ylabel('World Rank')\n",
    "plot_test.xlabel('Number of publications')\n",
    "plot_test.show()"
   ]
  },
  {
   "cell_type": "markdown",
   "id": "594949ef",
   "metadata": {},
   "source": [
    "### Write your own interpretation of how well the line appears to fit the data in a markdown cell. \n",
    "The world rank and the publications variables follow a positive linear trend. Majority of the data is condensed in the bottom left corner of the plot and there are some outliers present. For example, 1000 publications for a world ranking around 100. The data in the bottom left corner appears to fit the regression nicely, but as the number of publications increase, the fit becomes worse. "
   ]
  },
  {
   "cell_type": "markdown",
   "id": "400f646d",
   "metadata": {},
   "source": [
    "### Model performance statistics"
   ]
  },
  {
   "cell_type": "code",
   "execution_count": 29,
   "id": "2c7ba4eb",
   "metadata": {},
   "outputs": [],
   "source": [
    "#Create objects for the model summary stats\n",
    "rmse = mean_squared_error(y_test, y_predicted)\n",
    "r2 = r2_score(y_test, y_predicted)"
   ]
  },
  {
   "cell_type": "code",
   "execution_count": 30,
   "id": "da97ba38",
   "metadata": {
    "scrolled": true
   },
   "outputs": [
    {
     "name": "stdout",
     "output_type": "stream",
     "text": [
      "Slope [[0.92663174]]\n",
      "Mean squared error 13689.22850008424\n",
      "R2 score 0.8517912567513867\n"
     ]
    }
   ],
   "source": [
    "#Print the model performance statistics \n",
    "print('Slope', regression.coef_)\n",
    "print('Mean squared error', rmse)\n",
    "print('R2 score', r2)"
   ]
  },
  {
   "cell_type": "code",
   "execution_count": 31,
   "id": "f74a0216",
   "metadata": {},
   "outputs": [
    {
     "data": {
      "text/html": [
       "<div>\n",
       "<style scoped>\n",
       "    .dataframe tbody tr th:only-of-type {\n",
       "        vertical-align: middle;\n",
       "    }\n",
       "\n",
       "    .dataframe tbody tr th {\n",
       "        vertical-align: top;\n",
       "    }\n",
       "\n",
       "    .dataframe thead th {\n",
       "        text-align: right;\n",
       "    }\n",
       "</style>\n",
       "<table border=\"1\" class=\"dataframe\">\n",
       "  <thead>\n",
       "    <tr style=\"text-align: right;\">\n",
       "      <th></th>\n",
       "      <th>world_rank</th>\n",
       "      <th>publications</th>\n",
       "      <th>quality_of_faculty</th>\n",
       "      <th>score</th>\n",
       "    </tr>\n",
       "  </thead>\n",
       "  <tbody>\n",
       "    <tr>\n",
       "      <th>count</th>\n",
       "      <td>2200.000000</td>\n",
       "      <td>2200.000000</td>\n",
       "      <td>2200.000000</td>\n",
       "      <td>2200.000000</td>\n",
       "    </tr>\n",
       "    <tr>\n",
       "      <th>mean</th>\n",
       "      <td>459.590909</td>\n",
       "      <td>459.908636</td>\n",
       "      <td>178.888182</td>\n",
       "      <td>47.798395</td>\n",
       "    </tr>\n",
       "    <tr>\n",
       "      <th>std</th>\n",
       "      <td>304.320363</td>\n",
       "      <td>303.760352</td>\n",
       "      <td>64.050885</td>\n",
       "      <td>7.760806</td>\n",
       "    </tr>\n",
       "    <tr>\n",
       "      <th>min</th>\n",
       "      <td>1.000000</td>\n",
       "      <td>1.000000</td>\n",
       "      <td>1.000000</td>\n",
       "      <td>43.360000</td>\n",
       "    </tr>\n",
       "    <tr>\n",
       "      <th>25%</th>\n",
       "      <td>175.750000</td>\n",
       "      <td>175.750000</td>\n",
       "      <td>175.750000</td>\n",
       "      <td>44.460000</td>\n",
       "    </tr>\n",
       "    <tr>\n",
       "      <th>50%</th>\n",
       "      <td>450.500000</td>\n",
       "      <td>450.500000</td>\n",
       "      <td>210.000000</td>\n",
       "      <td>45.100000</td>\n",
       "    </tr>\n",
       "    <tr>\n",
       "      <th>75%</th>\n",
       "      <td>725.250000</td>\n",
       "      <td>725.000000</td>\n",
       "      <td>218.000000</td>\n",
       "      <td>47.545000</td>\n",
       "    </tr>\n",
       "    <tr>\n",
       "      <th>max</th>\n",
       "      <td>1000.000000</td>\n",
       "      <td>1000.000000</td>\n",
       "      <td>218.000000</td>\n",
       "      <td>100.000000</td>\n",
       "    </tr>\n",
       "  </tbody>\n",
       "</table>\n",
       "</div>"
      ],
      "text/plain": [
       "        world_rank  publications  quality_of_faculty        score\n",
       "count  2200.000000   2200.000000         2200.000000  2200.000000\n",
       "mean    459.590909    459.908636          178.888182    47.798395\n",
       "std     304.320363    303.760352           64.050885     7.760806\n",
       "min       1.000000      1.000000            1.000000    43.360000\n",
       "25%     175.750000    175.750000          175.750000    44.460000\n",
       "50%     450.500000    450.500000          210.000000    45.100000\n",
       "75%     725.250000    725.000000          218.000000    47.545000\n",
       "max    1000.000000   1000.000000          218.000000   100.000000"
      ]
     },
     "execution_count": 31,
     "metadata": {},
     "output_type": "execute_result"
    }
   ],
   "source": [
    "CWUR_sub.describe()"
   ]
  },
  {
   "cell_type": "markdown",
   "id": "02d3f206",
   "metadata": {},
   "source": [
    "### Interpretation of the model performance statistics \n",
    "Slope (how the y variable changes when X changes)\n",
    "- Positive slope of 0.93 indicates a positive relationship \n",
    "- As number of publications increases, the world rank will also increase \n",
    "\n",
    "Mean squared error (how close a regression line is to a set of points - accuracy) \n",
    "- MSE value of 13689.23\n",
    "- The world rank has a range of 1 to 1000 and the publications variable has a range of 1 to 1000. \n",
    "- Since the MSE is very large (over 10,000), this means that the distance of the data points from the regression line is far. Therefore the regression line is not an accurate representation of the data. \n",
    "\n",
    "R2 score (how well the model explains the variance in the data)\n",
    "- R2 score of 0.85 (or 85%)\n",
    "- The R2 score indicates that the regression line is a good fit (closer to 1)\n",
    "- 85% of the variance in the world rank values can be explained by the number of published articles "
   ]
  },
  {
   "cell_type": "markdown",
   "id": "2ebd3850",
   "metadata": {},
   "source": [
    "### Compare the predicted y values with the actual y values in a dataframe "
   ]
  },
  {
   "cell_type": "code",
   "execution_count": 32,
   "id": "8f46e4ea",
   "metadata": {},
   "outputs": [
    {
     "data": {
      "text/html": [
       "<div>\n",
       "<style scoped>\n",
       "    .dataframe tbody tr th:only-of-type {\n",
       "        vertical-align: middle;\n",
       "    }\n",
       "\n",
       "    .dataframe tbody tr th {\n",
       "        vertical-align: top;\n",
       "    }\n",
       "\n",
       "    .dataframe thead th {\n",
       "        text-align: right;\n",
       "    }\n",
       "</style>\n",
       "<table border=\"1\" class=\"dataframe\">\n",
       "  <thead>\n",
       "    <tr style=\"text-align: right;\">\n",
       "      <th></th>\n",
       "      <th>Actual</th>\n",
       "      <th>Predicted</th>\n",
       "    </tr>\n",
       "  </thead>\n",
       "  <tbody>\n",
       "    <tr>\n",
       "      <th>0</th>\n",
       "      <td>121</td>\n",
       "      <td>139.595678</td>\n",
       "    </tr>\n",
       "    <tr>\n",
       "      <th>1</th>\n",
       "      <td>168</td>\n",
       "      <td>222.065903</td>\n",
       "    </tr>\n",
       "    <tr>\n",
       "      <th>2</th>\n",
       "      <td>92</td>\n",
       "      <td>147.935364</td>\n",
       "    </tr>\n",
       "    <tr>\n",
       "      <th>3</th>\n",
       "      <td>65</td>\n",
       "      <td>77.511352</td>\n",
       "    </tr>\n",
       "    <tr>\n",
       "      <th>4</th>\n",
       "      <td>529</td>\n",
       "      <td>557.506593</td>\n",
       "    </tr>\n",
       "    <tr>\n",
       "      <th>5</th>\n",
       "      <td>71</td>\n",
       "      <td>54.345558</td>\n",
       "    </tr>\n",
       "    <tr>\n",
       "      <th>6</th>\n",
       "      <td>366</td>\n",
       "      <td>330.481817</td>\n",
       "    </tr>\n",
       "    <tr>\n",
       "      <th>7</th>\n",
       "      <td>200</td>\n",
       "      <td>313.802446</td>\n",
       "    </tr>\n",
       "    <tr>\n",
       "      <th>8</th>\n",
       "      <td>247</td>\n",
       "      <td>236.892011</td>\n",
       "    </tr>\n",
       "    <tr>\n",
       "      <th>9</th>\n",
       "      <td>864</td>\n",
       "      <td>853.102119</td>\n",
       "    </tr>\n",
       "    <tr>\n",
       "      <th>10</th>\n",
       "      <td>347</td>\n",
       "      <td>574.185965</td>\n",
       "    </tr>\n",
       "    <tr>\n",
       "      <th>11</th>\n",
       "      <td>966</td>\n",
       "      <td>837.349379</td>\n",
       "    </tr>\n",
       "    <tr>\n",
       "      <th>12</th>\n",
       "      <td>667</td>\n",
       "      <td>726.153570</td>\n",
       "    </tr>\n",
       "    <tr>\n",
       "      <th>13</th>\n",
       "      <td>447</td>\n",
       "      <td>633.490396</td>\n",
       "    </tr>\n",
       "    <tr>\n",
       "      <th>14</th>\n",
       "      <td>930</td>\n",
       "      <td>923.526131</td>\n",
       "    </tr>\n",
       "    <tr>\n",
       "      <th>15</th>\n",
       "      <td>306</td>\n",
       "      <td>516.734797</td>\n",
       "    </tr>\n",
       "    <tr>\n",
       "      <th>16</th>\n",
       "      <td>988</td>\n",
       "      <td>949.471820</td>\n",
       "    </tr>\n",
       "    <tr>\n",
       "      <th>17</th>\n",
       "      <td>643</td>\n",
       "      <td>611.251234</td>\n",
       "    </tr>\n",
       "    <tr>\n",
       "      <th>18</th>\n",
       "      <td>912</td>\n",
       "      <td>747.466100</td>\n",
       "    </tr>\n",
       "    <tr>\n",
       "      <th>19</th>\n",
       "      <td>990</td>\n",
       "      <td>868.854858</td>\n",
       "    </tr>\n",
       "    <tr>\n",
       "      <th>20</th>\n",
       "      <td>679</td>\n",
       "      <td>733.566624</td>\n",
       "    </tr>\n",
       "    <tr>\n",
       "      <th>21</th>\n",
       "      <td>518</td>\n",
       "      <td>522.294587</td>\n",
       "    </tr>\n",
       "    <tr>\n",
       "      <th>22</th>\n",
       "      <td>186</td>\n",
       "      <td>293.416547</td>\n",
       "    </tr>\n",
       "    <tr>\n",
       "      <th>23</th>\n",
       "      <td>899</td>\n",
       "      <td>599.205022</td>\n",
       "    </tr>\n",
       "    <tr>\n",
       "      <th>24</th>\n",
       "      <td>792</td>\n",
       "      <td>685.381774</td>\n",
       "    </tr>\n",
       "    <tr>\n",
       "      <th>25</th>\n",
       "      <td>996</td>\n",
       "      <td>892.947284</td>\n",
       "    </tr>\n",
       "    <tr>\n",
       "      <th>26</th>\n",
       "      <td>629</td>\n",
       "      <td>589.012073</td>\n",
       "    </tr>\n",
       "    <tr>\n",
       "      <th>27</th>\n",
       "      <td>449</td>\n",
       "      <td>397.199302</td>\n",
       "    </tr>\n",
       "    <tr>\n",
       "      <th>28</th>\n",
       "      <td>337</td>\n",
       "      <td>202.606637</td>\n",
       "    </tr>\n",
       "    <tr>\n",
       "      <th>29</th>\n",
       "      <td>115</td>\n",
       "      <td>104.383672</td>\n",
       "    </tr>\n",
       "  </tbody>\n",
       "</table>\n",
       "</div>"
      ],
      "text/plain": [
       "    Actual   Predicted\n",
       "0      121  139.595678\n",
       "1      168  222.065903\n",
       "2       92  147.935364\n",
       "3       65   77.511352\n",
       "4      529  557.506593\n",
       "5       71   54.345558\n",
       "6      366  330.481817\n",
       "7      200  313.802446\n",
       "8      247  236.892011\n",
       "9      864  853.102119\n",
       "10     347  574.185965\n",
       "11     966  837.349379\n",
       "12     667  726.153570\n",
       "13     447  633.490396\n",
       "14     930  923.526131\n",
       "15     306  516.734797\n",
       "16     988  949.471820\n",
       "17     643  611.251234\n",
       "18     912  747.466100\n",
       "19     990  868.854858\n",
       "20     679  733.566624\n",
       "21     518  522.294587\n",
       "22     186  293.416547\n",
       "23     899  599.205022\n",
       "24     792  685.381774\n",
       "25     996  892.947284\n",
       "26     629  589.012073\n",
       "27     449  397.199302\n",
       "28     337  202.606637\n",
       "29     115  104.383672"
      ]
     },
     "execution_count": 32,
     "metadata": {},
     "output_type": "execute_result"
    }
   ],
   "source": [
    "#Create a dataframe comparing the ereal and predicted values of y \n",
    "data_compare = pd.DataFrame({'Actual':y_test.flatten(), 'Predicted':y_predicted.flatten()})\n",
    "data_compare.head(30)"
   ]
  },
  {
   "cell_type": "markdown",
   "id": "1b39627c",
   "metadata": {},
   "source": [
    "### Some of the predicted values seem close to the actual. For example, if we look at indices 9, 14, 21, and 29. I thought that since a lot of the data values are below 200 publications, that the model may predict the values below 200 better. But I did not observe that; instead majority of the predicted values are very different from the actual values. I do not think this model does an accurate job at predicting the values (world rank). \n",
    "\n",
    "Impacts of possible bias: I could not think of potential impacts from bias. However, I was wondering how much of the data lies beyond 200 publications. It appears that majority of the data is below 200 publications, so is this a threshold? By exploring this threshold further I could potentially determine if the number of publications does affect the world rank below 200 publications -- or it is a more accurate predictor of world rank. \n",
    "    \n",
    "Further steps: \n",
    "1. Look at other variables with a regression analysis: \n",
    "    - world rank and quality of faculty \n",
    "    - score and quality of faculty \n",
    "2. Explore the data below 200 publications only \n",
    "    - Do the number of publications affect the world rank, when the number of publications is below 200? "
   ]
  },
  {
   "cell_type": "code",
   "execution_count": null,
   "id": "ab6dc971",
   "metadata": {},
   "outputs": [],
   "source": []
  }
 ],
 "metadata": {
  "kernelspec": {
   "display_name": "Python 3 (ipykernel)",
   "language": "python",
   "name": "python3"
  },
  "language_info": {
   "codemirror_mode": {
    "name": "ipython",
    "version": 3
   },
   "file_extension": ".py",
   "mimetype": "text/x-python",
   "name": "python",
   "nbconvert_exporter": "python",
   "pygments_lexer": "ipython3",
   "version": "3.9.13"
  }
 },
 "nbformat": 4,
 "nbformat_minor": 5
}
